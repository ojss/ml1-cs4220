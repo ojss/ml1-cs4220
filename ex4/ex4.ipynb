{
 "cells": [
  {
   "cell_type": "code",
   "execution_count": 11,
   "metadata": {
    "ExecuteTime": {
     "end_time": "2020-12-09T16:02:22.732814Z",
     "start_time": "2020-12-09T16:02:22.729259Z"
    }
   },
   "outputs": [],
   "source": [
    "%matplotlib inline\n",
    "\n",
    "import numpy as np\n",
    "import matplotlib.pyplot as plt\n",
    "import seaborn as sns\n",
    "import prtools as pr\n",
    "from pprint import pprint as pp"
   ]
  },
  {
   "cell_type": "markdown",
   "metadata": {},
   "source": [
    "## 4.7"
   ]
  },
  {
   "cell_type": "code",
   "execution_count": 2,
   "metadata": {
    "ExecuteTime": {
     "end_time": "2020-12-09T15:52:05.788417Z",
     "start_time": "2020-12-09T15:52:05.780794Z"
    }
   },
   "outputs": [],
   "source": [
    "a = pr.gendatb([20, 20])"
   ]
  },
  {
   "cell_type": "markdown",
   "metadata": {},
   "source": [
    "The RBF kernel is given as:\n",
    "\n",
    "$$K(x, x') = \\exp\\left(-\\dfrac{\\left\\lVert x - x' \\right\\rVert^2}{2\\sigma^2}\\right)$$\n",
    "\n",
    "where:\n",
    "\n",
    "$$ \\gamma = \\dfrac{1}{2\\sigma^2} $$\n",
    "\n",
    "$\\sigma$ gives us the spread of the kernel and can be treated as a hyper parameter. It weights how far based on how far the points are."
   ]
  },
  {
   "cell_type": "code",
   "execution_count": 12,
   "metadata": {
    "ExecuteTime": {
     "end_time": "2020-12-09T16:02:25.519865Z",
     "start_time": "2020-12-09T16:02:25.475225Z"
    }
   },
   "outputs": [
    {
     "name": "stdout",
     "output_type": "stream",
     "text": [
      "{-5: 0.35,\n",
      " -4: 0.45,\n",
      " -3: 0.45,\n",
      " -2: 0.45,\n",
      " -1: 0.35,\n",
      " 0: 0.05,\n",
      " 1: 0.45,\n",
      " 2: 0.45,\n",
      " 3: 0.5,\n",
      " 4: 0.5,\n",
      " 5: 0.5,\n",
      " 6: 0.5,\n",
      " 7: 0.5,\n",
      " 8: 0.5,\n",
      " 9: 0.5}\n"
     ]
    }
   ],
   "source": [
    "test_set = pr.gendatb([10, 10])\n",
    "res = [test_set * pr.svc(a, ('rbf', .1 ** i, 1)) * pr.testc() for i in range(-5, 10)]\n",
    "pp(dict(zip(range(-5, 10), res)))"
   ]
  },
  {
   "cell_type": "code",
   "execution_count": 13,
   "metadata": {
    "ExecuteTime": {
     "end_time": "2020-12-09T16:02:55.526021Z",
     "start_time": "2020-12-09T16:02:55.343114Z"
    }
   },
   "outputs": [
    {
     "data": {
      "text/plain": [
       "<AxesSubplot:>"
      ]
     },
     "execution_count": 13,
     "metadata": {},
     "output_type": "execute_result"
    },
    {
     "data": {
      "image/png": "[encoded data removed]",
      "text/plain": [
       "<Figure size 432x288 with 1 Axes>"
      ]
     },
     "metadata": {
      "needs_background": "light"
     },
     "output_type": "display_data"
    }
   ],
   "source": [
    "sns.lineplot(x=range(-5, 10), y=res)"
   ]
  },
  {
   "cell_type": "markdown",
   "metadata": {},
   "source": [
    "The best $\\alpha$ for the rbf function seems to be $0$"
   ]
  },
  {
   "cell_type": "code",
   "execution_count": null,
   "metadata": {},
   "outputs": [],
   "source": []
  }
 ],
 "metadata": {
  "kernelspec": {
   "display_name": "Python 3",
   "language": "python",
   "name": "python3"
  },
  "language_info": {
   "codemirror_mode": {
    "name": "ipython",
    "version": 3
   },
   "file_extension": ".py",
   "mimetype": "text/x-python",
   "name": "python",
   "nbconvert_exporter": "python",
   "pygments_lexer": "ipython3",
   "version": "3.8.5"
  }
 },
 "nbformat": 4,
 "nbformat_minor": 4
}
